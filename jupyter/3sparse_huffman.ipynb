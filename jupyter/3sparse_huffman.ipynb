{
 "cells": [
  {
   "cell_type": "code",
   "execution_count": null,
   "metadata": {},
   "outputs": [],
   "source": [
    "from gluoncv.model_zoo import cifar_resnet56_v1\n",
    "import numpy as np\n",
    "import os, shutil\n",
    "import struct\n",
    "import ctypes"
   ]
  },
  {
   "cell_type": "code",
   "execution_count": null,
   "metadata": {},
   "outputs": [],
   "source": [
    "import sys\n",
    "sys.path.append(\"..\")"
   ]
  },
  {
   "cell_type": "code",
   "execution_count": null,
   "metadata": {},
   "outputs": [],
   "source": [
    "from compress import utils as cutils, huffman"
   ]
  },
  {
   "cell_type": "code",
   "execution_count": null,
   "metadata": {},
   "outputs": [],
   "source": [
    "params_dir = './params/'\n",
    "if os.path.exists(params_dir): shutil.rmtree(params_dir)\n",
    "os.mkdir(params_dir)"
   ]
  },
  {
   "cell_type": "code",
   "execution_count": null,
   "metadata": {},
   "outputs": [],
   "source": [
    "net = cifar_resnet56_v1()\n",
    "net.load_parameters(\"./checkpoints/cifa10_resnet_56_v1_CBQuantize_mergebn_wprune_3bits-000500.params\", ignore_extra=True)"
   ]
  },
  {
   "cell_type": "code",
   "execution_count": null,
   "metadata": {},
   "outputs": [],
   "source": [
    "def save(data, path, dtype=\"f\", compress_bits=8):\n",
    "    float_packer = struct.Struct(dtype)\n",
    "    buffer = ctypes.create_string_buffer(float_packer.size)\n",
    "    if dtype == \"B\" and compress_bits < 8:\n",
    "        with open(path + str(compress_bits), 'wb') as f:\n",
    "            cnt = 0\n",
    "            buf = 0\n",
    "            mask = (1 << compress_bits) - 1\n",
    "            for d in data.reshape(-1):\n",
    "                buf = (buf << compress_bits) | (d & mask)\n",
    "                cnt += compress_bits\n",
    "                if cnt >= 8:\n",
    "                    rest = cnt - 8\n",
    "                    mask_ = 255 << rest\n",
    "                    dbyte = (buf & mask_) >> rest\n",
    "                    float_packer.pack_into(buffer, 0, dbyte)\n",
    "                    f.write(buffer)\n",
    "                    buf &= (1 << rest) - 1\n",
    "                    cnt = rest\n",
    "            if cnt > 0:\n",
    "                float_packer.pack_into(buffer, 0, buf << (8 - cnt))\n",
    "                f.write(buffer)\n",
    "    else:\n",
    "        with open(path, 'wb') as f:\n",
    "            for d in data.reshape(-1):\n",
    "                float_packer.pack_into(buffer, 0, d)\n",
    "                f.write(buffer)"
   ]
  },
  {
   "cell_type": "code",
   "execution_count": null,
   "metadata": {},
   "outputs": [],
   "source": [
    "def load(path):\n",
    "    res = []\n",
    "    float_packer = struct.Struct(\"f\")\n",
    "    with open(path, 'rb') as f:\n",
    "        while True:\n",
    "            d = f.read(4)\n",
    "            if not d:\n",
    "                break\n",
    "            res.append(float_packer.unpack_from(d)[0])\n",
    "    return np.array(res)"
   ]
  },
  {
   "cell_type": "code",
   "execution_count": null,
   "metadata": {},
   "outputs": [],
   "source": [
    "def sparsity(arr, idx_bits):\n",
    "    res_data = []\n",
    "    res_idx = []\n",
    "\n",
    "    codebook = np.unique(arr)\n",
    "    max_jump = 2 ** idx_bits\n",
    "    nnz_cnt, ph_cnt, ptr_cnt = 0, 0, 0\n",
    "    for data in arr.reshape(-1):\n",
    "        if data == 0:\n",
    "            ptr_cnt += 1\n",
    "            if ptr_cnt == max_jump:\n",
    "                res_data.append(0)\n",
    "                res_idx.append(max_jump - 1)\n",
    "                ph_cnt += 1\n",
    "                ptr_cnt = 0\n",
    "        else:\n",
    "            res_data.append(np.where(codebook == data)[0])\n",
    "            res_idx.append(ptr_cnt+1)\n",
    "            nnz_cnt += 1\n",
    "            ptr_cnt = 0\n",
    "    \n",
    "    return np.array(res_idx, dtype='uint8'), (codebook, np.array(res_data, dtype='uint8')), (nnz_cnt, ph_cnt)"
   ]
  },
  {
   "cell_type": "code",
   "execution_count": null,
   "metadata": {},
   "outputs": [],
   "source": [
    "blocks = cutils.collect_conv_and_fc(net, exclude=[net.features[0]])"
   ]
  },
  {
   "cell_type": "code",
   "execution_count": null,
   "metadata": {
    "scrolled": true
   },
   "outputs": [],
   "source": [
    "weight_bits = 3\n",
    "index_bits = 5\n",
    "for blk in blocks:\n",
    "    weight = blk.weight.data().asnumpy()\n",
    "    sparse_indices, (codebook, sparse_data), _ = sparsity(weight, index_bits)\n",
    "    \n",
    "    save(codebook, f'{params_dir}{blk.name}.weight.codebook.dat')\n",
    "    bytes_codebook1, bytes_data1 = huffman.huffman_encode(sparse_data, f'{params_dir}{blk.name}.weight.data')\n",
    "    bytes_codebook2, bytes_data2 = huffman.huffman_encode(sparse_indices, f'{params_dir}{blk.name}.weight.index')\n",
    "    \n",
    "    print(f'{blk.name}: {8*(bytes_data1 + bytes_codebook1 + bytes_data2 + bytes_codebook2)/(weight_bits * weight.size)}')\n",
    "    \n",
    "    if blk.bias is not None:\n",
    "        bias = blk.bias.data().asnumpy()\n",
    "        save(bias, f'{params_dir}{blk.name}.bias.dat')"
   ]
  },
  {
   "cell_type": "code",
   "execution_count": null,
   "metadata": {},
   "outputs": [],
   "source": []
  }
 ],
 "metadata": {
  "kernelspec": {
   "display_name": "Python 3",
   "language": "python",
   "name": "python3"
  },
  "language_info": {
   "codemirror_mode": {
    "name": "ipython",
    "version": 3
   },
   "file_extension": ".py",
   "mimetype": "text/x-python",
   "name": "python",
   "nbconvert_exporter": "python",
   "pygments_lexer": "ipython3",
   "version": "3.7.1"
  }
 },
 "nbformat": 4,
 "nbformat_minor": 2
}
